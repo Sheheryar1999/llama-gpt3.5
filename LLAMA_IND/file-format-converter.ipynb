{
 "cells": [
  {
   "cell_type": "code",
   "execution_count": 1,
   "id": "434280fb-8122-4cee-a67f-498b91409adf",
   "metadata": {},
   "outputs": [],
   "source": [
    "import PyPDF2\n",
    "import json\n"
   ]
  },
  {
   "cell_type": "code",
   "execution_count": 2,
   "id": "356484a2-7a23-451c-aa8c-100d16cc04bc",
   "metadata": {},
   "outputs": [],
   "source": [
    "def pdf_to_text(pdf_var, txt_var):\n",
    "    with open(pdf_var, 'rb') as pdf_file:\n",
    "        pdf_reader = PyPDF2.PdfReader(pdf_file)\n",
    "        with open(txt_var, 'w') as txt_file:\n",
    "            for page_num in range(len(pdf_reader.pages)):\n",
    "                page = pdf_reader.pages[page_num]\n",
    "                text = page.extract_text()\n",
    "                txt_file.write(text)"
   ]
  },
  {
   "cell_type": "code",
   "execution_count": 3,
   "id": "8486ff83-152c-4e1b-89e5-ce28d0fedfc0",
   "metadata": {},
   "outputs": [],
   "source": [
    "def json_to_txt(json_path, txt_path):\n",
    "    with open(json_path, 'r') as json_file:\n",
    "        data = json.load(json_file)\n",
    "        with open(txt_path, 'w') as txt_file:\n",
    "            txt_file.write(json.dumps(data, indent=4))"
   ]
  },
  {
   "cell_type": "code",
   "execution_count": 4,
   "id": "dd5cd189-5bf0-4466-b4e8-00f89cdebbd9",
   "metadata": {},
   "outputs": [],
   "source": [
    "pdf_to_text('./Actual/text.pdf', './Actual/example.txt')\n",
    "# json_to_txt('example.json', 'example.txt')\n"
   ]
  },
  {
   "cell_type": "code",
   "execution_count": 5,
   "id": "0043cd5a-dd6a-469c-b5b2-5107c212daa0",
   "metadata": {},
   "outputs": [],
   "source": [
    "pdf_to_text('text2.pdf', './Actual/example2.txt')"
   ]
  },
  {
   "cell_type": "code",
   "execution_count": null,
   "id": "cf56c55a-0e71-485c-a57b-bae13c203323",
   "metadata": {},
   "outputs": [],
   "source": []
  }
 ],
 "metadata": {
  "kernelspec": {
   "display_name": "Python 3 (ipykernel)",
   "language": "python",
   "name": "python3"
  },
  "language_info": {
   "codemirror_mode": {
    "name": "ipython",
    "version": 3
   },
   "file_extension": ".py",
   "mimetype": "text/x-python",
   "name": "python",
   "nbconvert_exporter": "python",
   "pygments_lexer": "ipython3",
   "version": "3.9.13"
  }
 },
 "nbformat": 4,
 "nbformat_minor": 5
}
